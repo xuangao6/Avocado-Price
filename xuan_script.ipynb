{
 "cells": [
  {
   "cell_type": "code",
   "execution_count": 13,
   "metadata": {},
   "outputs": [
    {
     "data": {
      "text/html": [
       "<div>\n",
       "<style scoped>\n",
       "    .dataframe tbody tr th:only-of-type {\n",
       "        vertical-align: middle;\n",
       "    }\n",
       "\n",
       "    .dataframe tbody tr th {\n",
       "        vertical-align: top;\n",
       "    }\n",
       "\n",
       "    .dataframe thead th {\n",
       "        text-align: right;\n",
       "    }\n",
       "</style>\n",
       "<table border=\"1\" class=\"dataframe\">\n",
       "  <thead>\n",
       "    <tr style=\"text-align: right;\">\n",
       "      <th></th>\n",
       "      <th>Date</th>\n",
       "      <th>AveragePrice</th>\n",
       "      <th>Total Volume</th>\n",
       "      <th>4046</th>\n",
       "      <th>4225</th>\n",
       "      <th>4770</th>\n",
       "      <th>Total Bags</th>\n",
       "      <th>Small Bags</th>\n",
       "      <th>Large Bags</th>\n",
       "      <th>XLarge Bags</th>\n",
       "      <th>type</th>\n",
       "      <th>year</th>\n",
       "      <th>region</th>\n",
       "      <th>Month</th>\n",
       "      <th>Day</th>\n",
       "    </tr>\n",
       "  </thead>\n",
       "  <tbody>\n",
       "    <tr>\n",
       "      <th>2652</th>\n",
       "      <td>2015-12-27</td>\n",
       "      <td>0.95</td>\n",
       "      <td>27297983.67</td>\n",
       "      <td>9626901.09</td>\n",
       "      <td>10197890.05</td>\n",
       "      <td>1184340.09</td>\n",
       "      <td>6288852.44</td>\n",
       "      <td>4850404.09</td>\n",
       "      <td>1252626.31</td>\n",
       "      <td>185822.04</td>\n",
       "      <td>conventional</td>\n",
       "      <td>2015</td>\n",
       "      <td>TotalUS</td>\n",
       "      <td>12</td>\n",
       "      <td>27</td>\n",
       "    </tr>\n",
       "    <tr>\n",
       "      <th>2653</th>\n",
       "      <td>2015-12-20</td>\n",
       "      <td>0.98</td>\n",
       "      <td>25083647.17</td>\n",
       "      <td>8710021.76</td>\n",
       "      <td>9329861.85</td>\n",
       "      <td>1201020.01</td>\n",
       "      <td>5842743.55</td>\n",
       "      <td>4618389.66</td>\n",
       "      <td>1025048.77</td>\n",
       "      <td>199305.12</td>\n",
       "      <td>conventional</td>\n",
       "      <td>2015</td>\n",
       "      <td>TotalUS</td>\n",
       "      <td>12</td>\n",
       "      <td>20</td>\n",
       "    </tr>\n",
       "    <tr>\n",
       "      <th>2654</th>\n",
       "      <td>2015-12-13</td>\n",
       "      <td>0.93</td>\n",
       "      <td>28041335.38</td>\n",
       "      <td>9855053.66</td>\n",
       "      <td>10805838.91</td>\n",
       "      <td>1016163.17</td>\n",
       "      <td>6364279.64</td>\n",
       "      <td>4964462.13</td>\n",
       "      <td>1371440.28</td>\n",
       "      <td>28377.23</td>\n",
       "      <td>conventional</td>\n",
       "      <td>2015</td>\n",
       "      <td>TotalUS</td>\n",
       "      <td>12</td>\n",
       "      <td>13</td>\n",
       "    </tr>\n",
       "    <tr>\n",
       "      <th>2655</th>\n",
       "      <td>2015-12-06</td>\n",
       "      <td>0.89</td>\n",
       "      <td>28800396.57</td>\n",
       "      <td>9405464.36</td>\n",
       "      <td>12160838.62</td>\n",
       "      <td>931830.63</td>\n",
       "      <td>6302262.96</td>\n",
       "      <td>5005077.36</td>\n",
       "      <td>1233956.21</td>\n",
       "      <td>63229.39</td>\n",
       "      <td>conventional</td>\n",
       "      <td>2015</td>\n",
       "      <td>TotalUS</td>\n",
       "      <td>12</td>\n",
       "      <td>6</td>\n",
       "    </tr>\n",
       "    <tr>\n",
       "      <th>2656</th>\n",
       "      <td>2015-11-29</td>\n",
       "      <td>0.99</td>\n",
       "      <td>22617999.38</td>\n",
       "      <td>8094803.56</td>\n",
       "      <td>9003178.41</td>\n",
       "      <td>731008.41</td>\n",
       "      <td>4789009.00</td>\n",
       "      <td>3901953.04</td>\n",
       "      <td>856560.34</td>\n",
       "      <td>30495.62</td>\n",
       "      <td>conventional</td>\n",
       "      <td>2015</td>\n",
       "      <td>TotalUS</td>\n",
       "      <td>11</td>\n",
       "      <td>29</td>\n",
       "    </tr>\n",
       "  </tbody>\n",
       "</table>\n",
       "</div>"
      ],
      "text/plain": [
       "           Date  AveragePrice  Total Volume        4046         4225  \\\n",
       "2652 2015-12-27          0.95   27297983.67  9626901.09  10197890.05   \n",
       "2653 2015-12-20          0.98   25083647.17  8710021.76   9329861.85   \n",
       "2654 2015-12-13          0.93   28041335.38  9855053.66  10805838.91   \n",
       "2655 2015-12-06          0.89   28800396.57  9405464.36  12160838.62   \n",
       "2656 2015-11-29          0.99   22617999.38  8094803.56   9003178.41   \n",
       "\n",
       "            4770  Total Bags  Small Bags  Large Bags  XLarge Bags  \\\n",
       "2652  1184340.09  6288852.44  4850404.09  1252626.31    185822.04   \n",
       "2653  1201020.01  5842743.55  4618389.66  1025048.77    199305.12   \n",
       "2654  1016163.17  6364279.64  4964462.13  1371440.28     28377.23   \n",
       "2655   931830.63  6302262.96  5005077.36  1233956.21     63229.39   \n",
       "2656   731008.41  4789009.00  3901953.04   856560.34     30495.62   \n",
       "\n",
       "              type  year   region  Month  Day  \n",
       "2652  conventional  2015  TotalUS     12   27  \n",
       "2653  conventional  2015  TotalUS     12   20  \n",
       "2654  conventional  2015  TotalUS     12   13  \n",
       "2655  conventional  2015  TotalUS     12    6  \n",
       "2656  conventional  2015  TotalUS     11   29  "
      ]
     },
     "execution_count": 13,
     "metadata": {},
     "output_type": "execute_result"
    }
   ],
   "source": [
    "import numpy as np\n",
    "import matplotlib.pyplot as plt\n",
    "import pandas as pd\n",
    "import seaborn as sns\n",
    "dataset = pd.read_csv('avocado.csv')\n",
    "dataset.drop('Unnamed: 0', axis=1, inplace=True)\n",
    "dataset['Date'] = pd.to_datetime(dataset['Date'])\n",
    "dataset['Month'] = dataset['Date'].apply(lambda x:x.month)\n",
    "dataset['Day'] = dataset['Date'].apply(lambda x:x.day)\n",
    "dataset_us = dataset[dataset['region'] == 'TotalUS']\n",
    "dataset_us.head()"
   ]
  },
  {
   "cell_type": "code",
   "execution_count": 14,
   "metadata": {},
   "outputs": [],
   "source": [
    "# dataset_array = dataset_us.to_numpy()\n",
    "# volume = dataset_array[:,2]\n",
    "# plt.hist(volume)\n",
    "# plt.xlabel('Total volume')\n",
    "# plt.title('Total volume')"
   ]
  },
  {
   "cell_type": "code",
   "execution_count": 15,
   "metadata": {},
   "outputs": [],
   "source": [
    "dataset_2bp = pd.get_dummies(dataset_us)\n",
    "# # Scatter plot of the data\n",
    "# from pandas.plotting import scatter_matrix\n",
    "# scatter_matrix(dataset,figsize = (12,12))\n",
    "# print('The correlation matrix:')\n",
    "# corr_mtx = dataset.corr()\n",
    "# corr_mtx.round(2)\n",
    "# corr_mtx['AveragePrice'].abs().sort_values(ascending = False)"
   ]
  },
  {
   "cell_type": "code",
   "execution_count": 16,
   "metadata": {},
   "outputs": [],
   "source": [
    "from sklearn.linear_model import BayesianRidge\n",
    "from sklearn.svm import SVR\n",
    "from sklearn.linear_model import LinearRegression \n",
    "from sklearn.model_selection import train_test_split, cross_val_score, cross_validate # split data randomly into train and test subsets\n",
    "# from sklearn.metrics import mean_squared_error, r2_score, accuracy_score, mean_absolute_error\n",
    "from sklearn.preprocessing import StandardScaler # standarization\n",
    "from sklearn import metrics"
   ]
  },
  {
   "cell_type": "code",
   "execution_count": 47,
   "metadata": {},
   "outputs": [
    {
     "name": "stdout",
     "output_type": "stream",
     "text": [
      "       Total Volume  year  Month  Day\n",
      "2652    27297983.67  2015     12   27\n",
      "2653    25083647.17  2015     12   20\n",
      "2654    28041335.38  2015     12   13\n",
      "2655    28800396.57  2015     12    6\n",
      "2656    22617999.38  2015     11   29\n",
      "...             ...   ...    ...  ...\n",
      "18220    1384683.41  2018      2    4\n",
      "18221    1336979.09  2018      1   28\n",
      "18222    1283987.65  2018      1   21\n",
      "18223    1476651.08  2018      1   14\n",
      "18224    1517332.70  2018      1    7\n",
      "\n",
      "[338 rows x 4 columns]\n"
     ]
    }
   ],
   "source": [
    "# X year-month-day\n",
    "X=dataset_2bp.iloc[:,[2,10,11,12]]     # 选feature\n",
    "# X=dataset_2bp.iloc[:,2:14]\n",
    "y=dataset_2bp['AveragePrice']\n",
    "X_train,X_test,y_train,y_test=train_test_split(X,y,test_size=0.2,random_state=42)\n",
    "dataset_2bp.head()\n",
    "print(X)"
   ]
  },
  {
   "cell_type": "code",
   "execution_count": 48,
   "metadata": {},
   "outputs": [
    {
     "name": "stdout",
     "output_type": "stream",
     "text": [
      "Model Report for linear regression\n",
      "MAE: 0.11789661772312252\n",
      "MSE: 0.022170236884050544\n",
      "RMSE: 0.14889673228130476\n",
      "CV Score: 0.155576959425884\n",
      "Coefficient of determination: 0.71\n"
     ]
    },
    {
     "data": {
      "text/plain": [
       "((270, 4), (270,), (68, 4), (68,), (68,))"
      ]
     },
     "execution_count": 48,
     "metadata": {},
     "output_type": "execute_result"
    }
   ],
   "source": [
    "lr=LinearRegression()\n",
    "lr.fit(X_train, y_train)\n",
    "pred_lr = lr.predict(X_test)\n",
    "\n",
    "# perform cross-validation\n",
    "cv_score = cross_val_score(lr, X, y, scoring='neg_root_mean_squared_error', cv=5)\n",
    "cv_score = np.abs(np.mean(cv_score))\n",
    "\n",
    "print(\"Model Report for linear regression\")\n",
    "print('MAE:', metrics.mean_absolute_error(y_test, pred_lr))\n",
    "print('MSE:', metrics.mean_squared_error(y_test, pred_lr))\n",
    "print(\"RMSE:\",np.sqrt(metrics.mean_squared_error(y_test, pred_lr)))\n",
    "print('CV Score:', cv_score)\n",
    "# The coefficient of determination: 1 is perfect prediction\n",
    "print(\"Coefficient of determination: %.2f\" % metrics.r2_score(y_test, pred_lr))\n",
    "\n",
    "X_train.shape, y_train.shape,X_test.shape, y_test.shape, pred_lr.shape"
   ]
  },
  {
   "cell_type": "code",
   "execution_count": 49,
   "metadata": {},
   "outputs": [
    {
     "name": "stdout",
     "output_type": "stream",
     "text": [
      "Model Report for Empirical Bayesian regression\n",
      "MAE: 0.1168605359710124\n",
      "MSE: 0.02193221411586816\n",
      "RMSE: 0.1480952872844648\n",
      "CV Score: 0.155576959425884\n",
      "Coefficient of determination: 0.72\n"
     ]
    }
   ],
   "source": [
    "ebr = BayesianRidge()\n",
    "ebr.fit(X_train, y_train)\n",
    "pred_ebr = ebr.predict(X_test)\n",
    "\n",
    "print(\"Model Report for Empirical Bayesian regression\")\n",
    "print('MAE:', metrics.mean_absolute_error(y_test, pred_ebr))\n",
    "print('MSE:', metrics.mean_squared_error(y_test, pred_ebr))\n",
    "print(\"RMSE:\",np.sqrt(metrics.mean_squared_error(y_test, pred_ebr)))\n",
    "print('CV Score:', cv_score)\n",
    "# The coefficient of determination: 1 is perfect prediction\n",
    "print(\"Coefficient of determination: %.2f\" % metrics.r2_score(y_test, pred_ebr))"
   ]
  },
  {
   "cell_type": "code",
   "execution_count": 50,
   "metadata": {},
   "outputs": [],
   "source": [
    "class BayesianRegression():\n",
    "    \"\"\"\n",
    "    Bayesian regression model\n",
    "\n",
    "    w ~ N(w|0, alpha^(-1)I)\n",
    "    y = X @ w\n",
    "    t ~ N(t|X @ w, beta^(-1))\n",
    "    \"\"\"\n",
    "\n",
    "    def __init__(self, alpha:float=1., beta:float=1.):\n",
    "        self.alpha = alpha\n",
    "        self.beta = beta\n",
    "        self.w_mean = None\n",
    "        self.w_precision = None\n",
    "\n",
    "    def _is_prior_defined(self) -> bool:\n",
    "        return self.w_mean is not None and self.w_precision is not None\n",
    "\n",
    "    def _get_prior(self, ndim:int) -> tuple:\n",
    "        if self._is_prior_defined():\n",
    "            return self.w_mean, self.w_precision\n",
    "        else:\n",
    "            return np.zeros(ndim), self.alpha * np.eye(ndim)\n",
    "\n",
    "    def fit(self, X:np.ndarray, t:np.ndarray):\n",
    "        \"\"\"\n",
    "        bayesian update of parameters given training dataset\n",
    "\n",
    "        Parameters\n",
    "        ----------\n",
    "        X : (N, n_features) np.ndarray\n",
    "            training data independent variable\n",
    "        t : (N,) np.ndarray\n",
    "            training data dependent variable\n",
    "        \"\"\"\n",
    "\n",
    "        mean_prev, precision_prev = self._get_prior(np.size(X, 1))\n",
    "\n",
    "        w_precision = precision_prev + self.beta * X.T @ X\n",
    "        w_mean = np.linalg.solve(\n",
    "            w_precision,\n",
    "            precision_prev @ mean_prev + self.beta * X.T @ t\n",
    "        )\n",
    "        self.w_mean = w_mean\n",
    "        self.w_precision = w_precision\n",
    "        self.w_cov = np.linalg.inv(self.w_precision)\n",
    "\n",
    "    def predict(self, X:np.ndarray, return_std:bool=False, sample_size:int=None):\n",
    "        \"\"\"\n",
    "        return mean (and standard deviation) of predictive distribution\n",
    "\n",
    "        Parameters\n",
    "        ----------\n",
    "        X : (N, n_features) np.ndarray\n",
    "            independent variable\n",
    "        return_std : bool, optional\n",
    "            flag to return standard deviation (the default is False)\n",
    "        sample_size : int, optional\n",
    "            number of samples to draw from the predictive distribution\n",
    "            (the default is None, no sampling from the distribution)\n",
    "\n",
    "        Returns\n",
    "        -------\n",
    "        y : (N,) np.ndarray\n",
    "            mean of the predictive distribution\n",
    "        y_std : (N,) np.ndarray\n",
    "            standard deviation of the predictive distribution\n",
    "        y_sample : (N, sample_size) np.ndarray\n",
    "            samples from the predictive distribution\n",
    "        \"\"\"\n",
    "\n",
    "        if sample_size is not None:\n",
    "            w_sample = np.random.multivariate_normal(\n",
    "                self.w_mean, self.w_cov, size=sample_size\n",
    "            )\n",
    "            y_sample = X @ w_sample.T\n",
    "            return y_sample\n",
    "        y = X @ self.w_mean\n",
    "        if return_std:\n",
    "            y_var = 1 / self.beta + np.sum(X @ self.w_cov * X, axis=1)\n",
    "            y_std = np.sqrt(y_var)\n",
    "            return y, y_std\n",
    "        return y\n",
    " \n",
    "    def _log_likelihood(self, X, t, w):\n",
    "        return -0.5 * self.beta * np.square(t - X @ w).sum()"
   ]
  },
  {
   "cell_type": "code",
   "execution_count": 51,
   "metadata": {},
   "outputs": [
    {
     "name": "stdout",
     "output_type": "stream",
     "text": [
      "Model Report for Empirical Bayesian regression\n",
      "MAE: 0.1227952526437685\n",
      "MSE: 0.02514091447146016\n",
      "RMSE: 0.15855886752704865\n",
      "CV Score: 0.155576959425884\n",
      "Coefficient of determination: 0.68\n"
     ]
    }
   ],
   "source": [
    "br = BayesianRegression(alpha=1, beta=100.)\n",
    "br.fit(X_train, y_train)\n",
    "pred_br = br.predict(X_test)\n",
    "\n",
    "print(\"Model Report for Empirical Bayesian regression\")\n",
    "print('MAE:', metrics.mean_absolute_error(y_test, pred_br))\n",
    "print('MSE:', metrics.mean_squared_error(y_test, pred_br))\n",
    "print(\"RMSE:\",np.sqrt(metrics.mean_squared_error(y_test, pred_br)))\n",
    "print('CV Score:', cv_score)\n",
    "# The coefficient of determination: 1 is perfect prediction\n",
    "print(\"Coefficient of determination: %.2f\" % metrics.r2_score(y_test, pred_br))"
   ]
  },
  {
   "cell_type": "code",
   "execution_count": 53,
   "metadata": {},
   "outputs": [
    {
     "name": "stdout",
     "output_type": "stream",
     "text": [
      "Model Report for linear regression\n",
      "MAE: 0.13248488025386526\n",
      "MSE: 0.028629625188842184\n",
      "RMSE: 0.16920291128949935\n",
      "CV Score: 0.21855006835145638\n",
      "Coefficient of determination: 0.63\n"
     ]
    },
    {
     "data": {
      "text/plain": [
       "((270, 4), (270,), (68, 4), (68,), (68,))"
      ]
     },
     "execution_count": 53,
     "metadata": {},
     "output_type": "execute_result"
    }
   ],
   "source": [
    "regr = SVR()\n",
    "regr.fit(X_train,y_train)\n",
    "pred_svm = regr.predict(X_test)\n",
    "\n",
    "# perform cross-validation\n",
    "cv_score = cross_val_score(regr, X, y, scoring='neg_root_mean_squared_error', cv=5)\n",
    "cv_score = np.abs(np.mean(cv_score))\n",
    "\n",
    "print(\"Model Report for svm\")\n",
    "print('MAE:', metrics.mean_absolute_error(y_test, pred_svm))\n",
    "print('MSE:', metrics.mean_squared_error(y_test, pred_svm))\n",
    "print(\"RMSE:\",np.sqrt(metrics.mean_squared_error(y_test, pred_svm)))\n",
    "print('CV Score:', cv_score)\n",
    "# The coefficient of determination: 1 is perfect prediction\n",
    "print(\"Coefficient of determination: %.2f\" % metrics.r2_score(y_test, pred_svm))\n",
    "\n",
    "X_train.shape, y_train.shape,X_test.shape, y_test.shape, pred_svm.shape\n"
   ]
  },
  {
   "cell_type": "code",
   "execution_count": null,
   "metadata": {},
   "outputs": [],
   "source": []
  },
  {
   "cell_type": "code",
   "execution_count": null,
   "metadata": {},
   "outputs": [],
   "source": []
  }
 ],
 "metadata": {
  "interpreter": {
   "hash": "559242db46694297bf45a1f2c01a5213977929cff2ae79b7d8b9cb3d733fb43f"
  },
  "kernelspec": {
   "display_name": "Python 3 (ipykernel)",
   "language": "python",
   "name": "python3"
  },
  "language_info": {
   "codemirror_mode": {
    "name": "ipython",
    "version": 3
   },
   "file_extension": ".py",
   "mimetype": "text/x-python",
   "name": "python",
   "nbconvert_exporter": "python",
   "pygments_lexer": "ipython3",
   "version": "3.9.7"
  }
 },
 "nbformat": 4,
 "nbformat_minor": 2
}
