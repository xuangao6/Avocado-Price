{
 "cells": [
  {
   "cell_type": "markdown",
   "metadata": {},
   "source": [
    "# Boxplot, see the outlinear"
   ]
  },
  {
   "cell_type": "code",
   "execution_count": null,
   "metadata": {},
   "outputs": [],
   "source": [
    "# --- Plot Size ---\n",
    "fig, axs1 = plt.subplots(4, 2, figsize=(18, 18))\n",
    "\n",
    "# --- General Title ---\n",
    "fig.subplots_adjust(top=0.95)\n",
    "fig.suptitle('Box Plot of Continuous Columns', fontweight='bold', \n",
    "             fontsize='14', fontfamily='sans-serif')\n",
    "\n",
    "# --- Boxplot of Continuous Variables (Row 1) ---\n",
    "sns.boxplot(data=dataset_2bp, x='AveragePrice', ax=axs1[0, 0], color='#004D25')\n",
    "sns.boxplot(data=dataset_2bp, x='Total Volume', ax=axs1[0, 1], color='#EDDE30')\n",
    "\n",
    "# --- Boxplot of Continuous Variables (Row 2) ---\n",
    "sns.boxplot(data=dataset_2bp, x='4046', ax=axs1[1, 0], color='#48BF53')\n",
    "sns.boxplot(data=dataset_2bp, x='4225', ax=axs1[1, 1], color='#837A0B')\n",
    "\n",
    "# --- Boxplot of Continuous Variables (Row 3) ---\n",
    "sns.boxplot(data=dataset_2bp, x='4770', ax=axs1[2, 0], color='#664228')\n",
    "sns.boxplot(data=dataset_2bp, x='Total Bags', ax=axs1[2, 1], color='#A4E637')\n",
    "\n",
    "# --- Boxplot of Continuous Variables (Row 4) ---\n",
    "sns.boxplot(data=dataset_2bp, x='Small Bags', ax=axs1[3, 0], color='#BF865D')\n",
    "sns.boxplot(data=dataset_2bp, x='XLarge Bags', ax=axs1[3, 1], color='#557F0F')"
   ]
  },
  {
   "cell_type": "code",
   "execution_count": null,
   "metadata": {},
   "outputs": [],
   "source": [
    "# delete the outlinear\n",
    "numeric_columns = ['AveragePrice', 'Total Volume',\n",
    "                   '4046', '4225', '4770',\n",
    "                   'Total Bags', 'Small Bags',\n",
    "                   'Large Bags', 'XLarge Bags']\n",
    "\n",
    "\n",
    "Q1 = dataset_2bp[numeric_columns].quantile(0.25)\n",
    "Q3 = dataset_2bp[numeric_columns].quantile(0.75)\n",
    "IQR = Q3 - Q1\n",
    "print('Here we will get IQR for each column\\n',IQR)\n",
    "\n",
    "dataset_filtered = dataset_2bp[~((dataset_2bp[numeric_columns] < (Q1 - 1.5 * IQR)) |(dataset_2bp[numeric_columns] > (Q3 + 1.5 * IQR))).any(axis=1)]\n",
    "display(dataset_filtered.shape)"
   ]
  },
  {
   "cell_type": "code",
   "execution_count": null,
   "metadata": {},
   "outputs": [],
   "source": [
    "# --- Plot Size ---\n",
    "fig, axs1 = plt.subplots(4, 2, figsize=(18, 18))\n",
    "\n",
    "# --- General Title ---\n",
    "fig.subplots_adjust(top=0.95)\n",
    "fig.suptitle('Box Plot of Continuous Columns', fontweight='bold', \n",
    "             fontsize='14', fontfamily='sans-serif')\n",
    "\n",
    "# --- Boxplot of Continuous Variables (Row 1) ---\n",
    "sns.boxplot(data=dataset_filtered, x='AveragePrice', ax=axs1[0, 0], color='#004D25')\n",
    "sns.boxplot(data=dataset_filtered, x='Total Volume', ax=axs1[0, 1], color='#EDDE30')\n",
    "\n",
    "# --- Boxplot of Continuous Variables (Row 2) ---\n",
    "sns.boxplot(data=dataset_filtered, x='4046', ax=axs1[1, 0], color='#48BF53')\n",
    "sns.boxplot(data=dataset_filtered, x='4225', ax=axs1[1, 1], color='#837A0B')\n",
    "\n",
    "# --- Boxplot of Continuous Variables (Row 3) ---\n",
    "sns.boxplot(data=dataset_filtered, x='4770', ax=axs1[2, 0], color='#664228')\n",
    "sns.boxplot(data=dataset_filtered, x='Total Bags', ax=axs1[2, 1], color='#A4E637')\n",
    "\n",
    "# --- Boxplot of Continuous Variables (Row 4) ---\n",
    "sns.boxplot(data=dataset_filtered, x='Small Bags', ax=axs1[3, 0], color='#BF865D')\n",
    "sns.boxplot(data=dataset_filtered, x='XLarge Bags', ax=axs1[3, 1], color='#557F0F')"
   ]
  }
 ],
 "metadata": {
  "interpreter": {
   "hash": "559242db46694297bf45a1f2c01a5213977929cff2ae79b7d8b9cb3d733fb43f"
  },
  "kernelspec": {
   "display_name": "Python 3.8.8 ('base')",
   "language": "python",
   "name": "python3"
  },
  "language_info": {
   "name": "python",
   "version": "3.8.8"
  },
  "orig_nbformat": 4
 },
 "nbformat": 4,
 "nbformat_minor": 2
}
